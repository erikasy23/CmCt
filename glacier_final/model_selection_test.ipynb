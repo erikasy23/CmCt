{
 "cells": [
  {
   "cell_type": "code",
   "execution_count": null,
   "id": "193dfe60",
   "metadata": {},
   "outputs": [],
   "source": [
    "import glob\n",
    "import os\n",
    "import ipywidgets as widgets\n",
    "from IPython.display import display\n",
    "import requests\n",
    "from bs4 import BeautifulSoup"
   ]
  },
  {
   "cell_type": "code",
   "execution_count": null,
   "id": "8a946bad",
   "metadata": {},
   "outputs": [
    {
     "data": {
      "application/vnd.jupyter.widget-view+json": {
       "model_id": "1dd6adee76804211a439b6ce7bd5819e",
       "version_major": 2,
       "version_minor": 0
      },
      "text/plain": [
       "Dropdown(description='Model:', options=('ACCESS-CM2', 'ACCESS-ESM1-5', 'BCC-CSM2-MR', 'CAMS-CSM1-0', 'CESM2', …"
      ]
     },
     "metadata": {},
     "output_type": "display_data"
    },
    {
     "data": {
      "application/vnd.jupyter.widget-view+json": {
       "model_id": "a4c6816fa7054c8a8a401a4d472c179d",
       "version_major": 2,
       "version_minor": 0
      },
      "text/plain": [
       "Dropdown(description='Scenario:', layout=Layout(display='block'), options=('ssp126', 'ssp585'), value='ssp126'…"
      ]
     },
     "metadata": {},
     "output_type": "display_data"
    },
    {
     "data": {
      "application/vnd.jupyter.widget-view+json": {
       "model_id": "09544fdebc58457e8a7b65891a2c2f55",
       "version_major": 2,
       "version_minor": 0
      },
      "text/plain": [
       "Dropdown(description='Observation:', options=('Mass Change (Hugonnet, 2021, 5-year period)', 'Mass Change (Dus…"
      ]
     },
     "metadata": {},
     "output_type": "display_data"
    },
    {
     "data": {
      "application/vnd.jupyter.widget-view+json": {
       "model_id": "9dc35b8ed242423f9d2b3e2d432dc178",
       "version_major": 2,
       "version_minor": 0
      },
      "text/plain": [
       "Text(value='', description='Custom Model:', layout=Layout(display='none'), placeholder='Enter custom model nam…"
      ]
     },
     "metadata": {},
     "output_type": "display_data"
    },
    {
     "data": {
      "application/vnd.jupyter.widget-view+json": {
       "model_id": "9ced84875ecb403ba380a4ae46126faf",
       "version_major": 2,
       "version_minor": 0
      },
      "text/plain": [
       "Text(value='', description='Custom Scenario:', layout=Layout(display='none'), placeholder='Enter custom scenar…"
      ]
     },
     "metadata": {},
     "output_type": "display_data"
    },
    {
     "data": {
      "application/vnd.jupyter.widget-view+json": {
       "model_id": "1ff3e7e7bd7b41f7bc9fa37378b63428",
       "version_major": 2,
       "version_minor": 0
      },
      "text/plain": [
       "ToggleButtons(description='Custom Source:', layout=Layout(display='none'), options=('Upload', 'Link'), style=T…"
      ]
     },
     "metadata": {},
     "output_type": "display_data"
    },
    {
     "data": {
      "application/vnd.jupyter.widget-view+json": {
       "model_id": "f531268ecd9a4db6a5d6b16ff9203845",
       "version_major": 2,
       "version_minor": 0
      },
      "text/plain": [
       "FileUpload(value=(), accept='.csv', description='Upload', layout=Layout(display='none'))"
      ]
     },
     "metadata": {},
     "output_type": "display_data"
    },
    {
     "data": {
      "application/vnd.jupyter.widget-view+json": {
       "model_id": "70c5d86b26744ff4921f0d63e4ffcf16",
       "version_major": 2,
       "version_minor": 0
      },
      "text/plain": [
       "Text(value='', description='Data Path/URL:', layout=Layout(display='none'), placeholder='Enter folder path or …"
      ]
     },
     "metadata": {},
     "output_type": "display_data"
    }
   ],
   "source": [
    "# --- Model/scenario/observation dropdowns ---\n",
    "#selected_regions = [\"13\"]\n",
    "model_to_scenarios = {}\n",
    "\n",
    "# Build model_to_scenarios from OGGM files\n",
    "for region_code in selected_regions:\n",
    "    base_url = f\"https://cluster.klima.uni-bremen.de/~oggm/oggm-standard-projections/oggm_v16/2023.3/CMIP6/2100/RGI{region_code}/\"\n",
    "    response = requests.get(base_url)\n",
    "    soup = BeautifulSoup(response.text, \"html.parser\")\n",
    "    file_links = [a['href'] for a in soup.find_all('a', href=True) if a['href'].endswith('.nc')]\n",
    "    for fname in file_links:\n",
    "        parts = fname.split(\"_\")\n",
    "        if len(parts) >= 7:\n",
    "            model = parts[5]\n",
    "            scenario = parts[6]\n",
    "            model_to_scenarios.setdefault(model, set()).add(scenario)\n",
    "\n",
    "for model in model_to_scenarios:\n",
    "    model_to_scenarios[model] = sorted(model_to_scenarios[model])\n",
    "\n",
    "model_options = sorted(model_to_scenarios.keys()) + ['Other']\n",
    "model_dropdown = widgets.Dropdown(options=model_options, description='Model:')\n",
    "scenario_dropdown = widgets.Dropdown(description='Scenario:')\n",
    "observation_options = [\n",
    "    'Mass Change (Hugonnet, 2021, 5-year period)',\n",
    "    'Mass Change (Dussaillant, 2025, annual)',\n",
    "    'Elevation Change (Hugonnet, 2021, 5-year period)',\n",
    "    'Reference Glaciers'\n",
    "]\n",
    "observation_dropdown = widgets.Dropdown(options=observation_options, description='Observation:')\n",
    "\n",
    "custom_model_text = widgets.Text(\n",
    "    description='Custom Model:',\n",
    "    placeholder='Enter custom model name',\n",
    "    style={'description_width': 'initial'}\n",
    ")\n",
    "\n",
    "custom_scenario_text = widgets.Text(\n",
    "    description='Custom Scenario:',\n",
    "    placeholder='Enter custom scenario name',\n",
    "    style={'description_width': 'initial'}\n",
    ")\n",
    "\n",
    "custom_model_text.layout.display = 'none'\n",
    "custom_scenario_text.layout.display = 'none'   \n",
    "\n",
    "# --- Custom source widgets (initially hidden) ---\n",
    "custom_source_toggle = widgets.ToggleButtons(\n",
    "    options=['Upload', 'Link'],\n",
    "    description='Custom Source:',\n",
    "    style={'description_width': 'initial'}\n",
    ")\n",
    "file_upload = widgets.FileUpload(accept='.csv', multiple=True)\n",
    "link_input = widgets.Text(description=\"Data URL:\", placeholder=\"Enter folder URL\")\n",
    "\n",
    "custom_source_toggle.layout.display = 'none'\n",
    "file_upload.layout.display = 'none'\n",
    "link_input.layout.display = 'none'\n",
    "\n",
    "def on_model_change(change):\n",
    "    if change['new'] == 'Other':\n",
    "        # Hide scenario dropdown, show custom model/scenario text\n",
    "        scenario_dropdown.layout.display = 'none'\n",
    "        custom_model_text.layout.display = 'block'\n",
    "        custom_scenario_text.layout.display = 'block'\n",
    "        # Show custom source toggle and its children as appropriate\n",
    "        custom_source_toggle.layout.display = 'block'\n",
    "        if custom_source_toggle.value == 'Upload':\n",
    "            file_upload.layout.display = 'block'\n",
    "            link_input.layout.display = 'none'\n",
    "        elif custom_source_toggle.value == 'Link':\n",
    "            file_upload.layout.display = 'none'\n",
    "            link_input.layout.display = 'block'\n",
    "        else:\n",
    "            file_upload.layout.display = 'none'\n",
    "            link_input.layout.display = 'none'\n",
    "    else:\n",
    "        # Show scenario dropdown, hide custom model/scenario text\n",
    "        scenarios = model_to_scenarios[model_dropdown.value]\n",
    "        scenario_dropdown.options = scenarios\n",
    "        scenario_dropdown.value = scenarios[0]\n",
    "        scenario_dropdown.layout.display = 'block'\n",
    "        custom_model_text.layout.display = 'none'\n",
    "        custom_scenario_text.layout.display = 'none'\n",
    "        # Hide custom source widgets\n",
    "        custom_source_toggle.layout.display = 'none'\n",
    "        file_upload.layout.display = 'none'\n",
    "        link_input.layout.display = 'none'\n",
    "\n",
    "def on_custom_source_change(change):\n",
    "    if model_dropdown.value == 'Other':\n",
    "        if change['new'] == 'Upload':\n",
    "            file_upload.layout.display = 'block'\n",
    "            link_input.layout.display = 'none'\n",
    "        elif change['new'] == 'Link':\n",
    "            file_upload.layout.display = 'none'\n",
    "            link_input.layout.display = 'block'\n",
    "        else:\n",
    "            file_upload.layout.display = 'none'\n",
    "            link_input.layout.display = 'none'\n",
    "\n",
    "model_dropdown.observe(on_model_change, names='value')\n",
    "custom_source_toggle.observe(on_custom_source_change, names='value')\n",
    "\n",
    "# Initialize UI state\n",
    "on_model_change({'new': model_dropdown.value})\n",
    "\n",
    "display(\n",
    "    model_dropdown,\n",
    "    scenario_dropdown,\n",
    "    observation_dropdown,\n",
    "    custom_model_text,\n",
    "    custom_scenario_text,\n",
    "    custom_source_toggle,\n",
    "    file_upload,\n",
    "    link_input\n",
    ")"
   ]
  }
 ],
 "metadata": {
  "kernelspec": {
   "display_name": "cmct2",
   "language": "python",
   "name": "python3"
  },
  "language_info": {
   "codemirror_mode": {
    "name": "ipython",
    "version": 3
   },
   "file_extension": ".py",
   "mimetype": "text/x-python",
   "name": "python",
   "nbconvert_exporter": "python",
   "pygments_lexer": "ipython3",
   "version": "3.9.6"
  }
 },
 "nbformat": 4,
 "nbformat_minor": 5
}
